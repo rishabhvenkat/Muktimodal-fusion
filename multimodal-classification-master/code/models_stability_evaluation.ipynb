{
 "cells": [
  {
   "cell_type": "code",
   "execution_count": 1,
   "metadata": {},
   "outputs": [
    {
     "name": "stderr",
     "output_type": "stream",
     "text": [
      "Using TensorFlow backend.\n"
     ]
    }
   ],
   "source": [
    "import numpy as np\n",
    "import pandas as pd\n",
    "import sys\n",
    "import os\n",
    "import pandas.core.indexes\n",
    "sys.modules['pandas.indexes'] = pandas.core.indexes\n",
    "import time\n",
    "import yaml\n",
    "import json\n",
    "import matplotlib.pyplot as plt\n",
    "import matplotlib\n",
    "\n",
    "import keras\n",
    "import tensorflow as tf\n",
    "from keras.models import Sequential, load_model, Model\n",
    "from keras.layers import Dense, Dropout, Flatten, Conv3D, MaxPooling3D, BatchNormalization, Activation, Input, concatenate\n",
    "from keras.callbacks import EarlyStopping\n",
    "from keras.backend.tensorflow_backend import set_session\n",
    "from keras.utils import multi_gpu_model\n",
    "from sklearn.metrics import roc_auc_score\n",
    "from sklearn.model_selection import ParameterGrid\n",
    "from scipy.stats import iqr\n",
    "\n",
    "sys.path.append(\"/home/esra/Desktop/git_repos/outcome-prediction/clinical parameter-based\")\n",
    "sys.path.append(\"/home/esra/Desktop/git_repos/outcome-prediction/TOF-based\")\n",
    "from helper import dataset, model\n",
    "from imaging_predictive_models import imaging_dataset\n",
    "from clinical_predictive_models import clinical_dataset, MLP\n",
    "from multimodal_prediction_helper import multimodal_dataset\n",
    "from keras_helper import EpochEvaluation\n"
   ]
  },
  {
   "cell_type": "code",
   "execution_count": 2,
   "metadata": {},
   "outputs": [],
   "source": [
    "#### ENVIRONMENT AND SESSION SET UP ####################################################################\n",
    "# set the environment variable\n",
    "os.environ[\"KERAS_BACKEND\"] = \"tensorflow\"\n",
    "# Silence INFO logs\n",
    "os.environ['TF_CPP_MIN_LOG_LEVEL'] = '1'"
   ]
  },
  {
   "cell_type": "code",
   "execution_count": 3,
   "metadata": {},
   "outputs": [],
   "source": [
    "#### READ CONFIGURATION FILE ###########################################################################\n",
    "def join(loader,node):\n",
    "    seq = loader.construct_sequence(node)\n",
    "    return ''.join(str(i) for i in seq)\n",
    "\n",
    "yaml.add_constructor('!join',join)\n",
    "cfg = yaml.load(open('config.yml', 'r'))\n",
    "\n",
    "#### ASSIGN PATHS AND VARIABLES #########################################################################\n",
    "dataset_name = cfg['dataset name']\n",
    "img_splits_path = '/mnt/S_DRIVE/ML_Backup/Esra/TOF_based/data/1kplus_multimodal_imaging_train_val_test_set.pkl'\n",
    "img_feat_splits_path = 'data/' + cfg['imaging dataset']['feature splits path']\n",
    "img_models_path = cfg['imaging dataset']['models path']\n",
    "img_params_folder = '../TOF-based/modeling_results/1kplus_multimodal/params/'\n",
    "img_scores_folder = '../TOF-based/modeling_results/1kplus_multimodal/performance_scores/'\n",
    "clin_splits_path = cfg['clinical dataset']['splits path']\n",
    "clin_feat_splits_path = 'data/'+ cfg['clinical dataset']['feature splits path']\n",
    "clin_models_path = cfg['clinical dataset']['models path']\n",
    "clin_params_folder = '../clinical parameter-based/modeling_results/1kplus_multimodal/params/'\n",
    "clin_scores_folder = '../clinical parameter-based/modeling_results/1kplus_multimodal/performance_scores/'\n",
    "num_splits = cfg['number of runs']"
   ]
  },
  {
   "cell_type": "code",
   "execution_count": null,
   "metadata": {},
   "outputs": [],
   "source": [
    "#### LOAD BOTH CLINICAL AND IMAGING DATA #################################################################\n",
    "img_data = imaging_dataset(dataset_name)\n",
    "img_sets = img_data.assign_train_val_test_sets(img_splits_path)\n",
    "clin_data = clinical_dataset(dataset_name)\n",
    "clin_sets = clin_data.assign_train_val_test_sets(clin_splits_path)\n",
    "features = multimodal_dataset(dataset_name)\n",
    "features.load_feature_sets(img_feat_splits_path, clin_feat_splits_path)"
   ]
  },
  {
   "cell_type": "markdown",
   "metadata": {},
   "source": [
    "### 1. Variance in performace for different weight initializations, dropout choices etc."
   ]
  },
  {
   "cell_type": "code",
   "execution_count": 4,
   "metadata": {},
   "outputs": [],
   "source": [
    "# fix seed\n",
    "np.random.seed(1)\n",
    "tf.set_random_seed(2)\n",
    "import random as rn\n",
    "rn.seed(3)"
   ]
  },
  {
   "cell_type": "code",
   "execution_count": 5,
   "metadata": {},
   "outputs": [],
   "source": [
    "model_names= ['Model 1', 'Model 2', 'Model 3', 'Model 4', 'Model 5']\n",
    "sets = ['training', 'test']\n",
    "iterables= [model_names, sets]\n",
    "multiidx = pd.MultiIndex.from_product(iterables)"
   ]
  },
  {
   "cell_type": "markdown",
   "metadata": {},
   "source": [
    "### CNN"
   ]
  },
  {
   "cell_type": "code",
   "execution_count": 6,
   "metadata": {},
   "outputs": [],
   "source": [
    "medians_CNN = []\n",
    "iqrs_CNN = []\n",
    "AUC_CNN = []\n",
    "\n",
    "for i in range(num_splits):\n",
    "    AUC_trs_CNN, AUC_tes_CNN = np.loadtxt('../TOF-based/modeling_results/1kplus_multimodal/performance_scores/outer_loop_AUC_performance_over_100_runs_model_'+str(i+1)+'.csv', delimiter=\",\")\n",
    "\n",
    "    medians_CNN.append([np.median(AUC_trs_CNN), np.median(AUC_tes_CNN)])\n",
    "    iqrs_CNN.append([iqr(AUC_trs_CNN),  iqr(AUC_tes_CNN)])\n",
    "    AUC_CNN.append(AUC_tes_CNN)\n",
    "    \n",
    "df_CNN = pd.DataFrame([],columns=multiidx,index = ['median','iqr'])\n",
    "df_CNN.loc['median',:] = list(matplotlib.cbook.flatten(medians_CNN))\n",
    "df_CNN.loc['iqr',:] = list(matplotlib.cbook.flatten(iqrs_CNN))"
   ]
  },
  {
   "cell_type": "code",
   "execution_count": 7,
   "metadata": {},
   "outputs": [
    {
     "data": {
      "text/html": [
       "<div>\n",
       "<style scoped>\n",
       "    .dataframe tbody tr th:only-of-type {\n",
       "        vertical-align: middle;\n",
       "    }\n",
       "\n",
       "    .dataframe tbody tr th {\n",
       "        vertical-align: top;\n",
       "    }\n",
       "\n",
       "    .dataframe thead tr th {\n",
       "        text-align: left;\n",
       "    }\n",
       "</style>\n",
       "<table border=\"1\" class=\"dataframe\">\n",
       "  <thead>\n",
       "    <tr>\n",
       "      <th></th>\n",
       "      <th colspan=\"2\" halign=\"left\">Model 1</th>\n",
       "      <th colspan=\"2\" halign=\"left\">Model 2</th>\n",
       "      <th colspan=\"2\" halign=\"left\">Model 3</th>\n",
       "      <th colspan=\"2\" halign=\"left\">Model 4</th>\n",
       "      <th colspan=\"2\" halign=\"left\">Model 5</th>\n",
       "    </tr>\n",
       "    <tr>\n",
       "      <th></th>\n",
       "      <th>training</th>\n",
       "      <th>test</th>\n",
       "      <th>training</th>\n",
       "      <th>test</th>\n",
       "      <th>training</th>\n",
       "      <th>test</th>\n",
       "      <th>training</th>\n",
       "      <th>test</th>\n",
       "      <th>training</th>\n",
       "      <th>test</th>\n",
       "    </tr>\n",
       "  </thead>\n",
       "  <tbody>\n",
       "    <tr>\n",
       "      <th>median</th>\n",
       "      <td>0.967652</td>\n",
       "      <td>0.617284</td>\n",
       "      <td>0.997037</td>\n",
       "      <td>0.757407</td>\n",
       "      <td>1</td>\n",
       "      <td>0.683333</td>\n",
       "      <td>0.941068</td>\n",
       "      <td>0.679012</td>\n",
       "      <td>0.891264</td>\n",
       "      <td>0.665432</td>\n",
       "    </tr>\n",
       "    <tr>\n",
       "      <th>iqr</th>\n",
       "      <td>0.0418769</td>\n",
       "      <td>0.0503086</td>\n",
       "      <td>0.00402354</td>\n",
       "      <td>0.0262346</td>\n",
       "      <td>0</td>\n",
       "      <td>0.0324074</td>\n",
       "      <td>0.0827528</td>\n",
       "      <td>0.041358</td>\n",
       "      <td>0.305399</td>\n",
       "      <td>0.224691</td>\n",
       "    </tr>\n",
       "  </tbody>\n",
       "</table>\n",
       "</div>"
      ],
      "text/plain": [
       "          Model 1                Model 2             Model 3             \\\n",
       "         training       test    training       test training       test   \n",
       "median   0.967652   0.617284    0.997037   0.757407        1   0.683333   \n",
       "iqr     0.0418769  0.0503086  0.00402354  0.0262346        0  0.0324074   \n",
       "\n",
       "          Model 4             Model 5            \n",
       "         training      test  training      test  \n",
       "median   0.941068  0.679012  0.891264  0.665432  \n",
       "iqr     0.0827528  0.041358  0.305399  0.224691  "
      ]
     },
     "execution_count": 7,
     "metadata": {},
     "output_type": "execute_result"
    }
   ],
   "source": [
    "df_CNN"
   ]
  },
  {
   "cell_type": "code",
   "execution_count": 8,
   "metadata": {},
   "outputs": [
    {
     "data": {
      "image/png": "[encoded data removed]",
      "text/plain": [
       "<Figure size 1080x432 with 5 Axes>"
      ]
     },
     "metadata": {
      "needs_background": "light"
     },
     "output_type": "display_data"
    }
   ],
   "source": [
    "fig, ax = plt.subplots(1,5,sharex=True, sharey=True,figsize= (15,6))\n",
    "for i in range(num_splits):\n",
    "    ax[i].errorbar(range(2),medians_CNN[i] ,yerr = iqrs_CNN[i],marker='o', markersize=10, ls='None',alpha=0.8)      \n",
    "    ax[i].set_xlabel('Model '+str(i+1),size=14)\n",
    "    ax[i].set_ylim(0.55,1.02)\n",
    "ax[0].set_ylabel('AUC score')\n",
    "plt.xticks(range(2),['training','test']) \n",
    "plt.suptitle('CNN model performances over 100 runs')\n",
    "plt.show()\n",
    "plt.close(fig)"
   ]
  },
  {
   "cell_type": "markdown",
   "metadata": {},
   "source": [
    "### MLP"
   ]
  },
  {
   "cell_type": "code",
   "execution_count": 7,
   "metadata": {},
   "outputs": [],
   "source": [
    "medians_MLP = []\n",
    "iqrs_MLP = []\n",
    "AUC_MLP = []\n",
    "\n",
    "for i in range(num_splits):\n",
    "    AUC_trs_MLP, AUC_tes_MLP = np.loadtxt('../clinical parameter-based/modeling_results/1kplus_multimodal/performance_scores/outer_loop_AUC_performance_over_100_runs_model_'+str(i+1)+'.csv', delimiter=\",\")\n",
    "\n",
    "    medians_MLP.append([np.median(AUC_trs_MLP), np.median(AUC_tes_MLP)])\n",
    "    iqrs_MLP.append([iqr(AUC_trs_MLP),  iqr(AUC_tes_MLP)])\n",
    "    AUC_MLP.append(AUC_tes_MLP)\n",
    "    \n",
    "df_MLP = pd.DataFrame([],columns=multiidx,index = ['median','iqr'])\n",
    "df_MLP.loc['median',:] = list(matplotlib.cbook.flatten(medians_MLP))\n",
    "df_MLP.loc['iqr',:] = list(matplotlib.cbook.flatten(iqrs_MLP))\n"
   ]
  },
  {
   "cell_type": "code",
   "execution_count": 10,
   "metadata": {},
   "outputs": [
    {
     "data": {
      "text/html": [
       "<div>\n",
       "<style scoped>\n",
       "    .dataframe tbody tr th:only-of-type {\n",
       "        vertical-align: middle;\n",
       "    }\n",
       "\n",
       "    .dataframe tbody tr th {\n",
       "        vertical-align: top;\n",
       "    }\n",
       "\n",
       "    .dataframe thead tr th {\n",
       "        text-align: left;\n",
       "    }\n",
       "</style>\n",
       "<table border=\"1\" class=\"dataframe\">\n",
       "  <thead>\n",
       "    <tr>\n",
       "      <th></th>\n",
       "      <th colspan=\"2\" halign=\"left\">Model 1</th>\n",
       "      <th colspan=\"2\" halign=\"left\">Model 2</th>\n",
       "      <th colspan=\"2\" halign=\"left\">Model 3</th>\n",
       "      <th colspan=\"2\" halign=\"left\">Model 4</th>\n",
       "      <th colspan=\"2\" halign=\"left\">Model 5</th>\n",
       "    </tr>\n",
       "    <tr>\n",
       "      <th></th>\n",
       "      <th>training</th>\n",
       "      <th>test</th>\n",
       "      <th>training</th>\n",
       "      <th>test</th>\n",
       "      <th>training</th>\n",
       "      <th>test</th>\n",
       "      <th>training</th>\n",
       "      <th>test</th>\n",
       "      <th>training</th>\n",
       "      <th>test</th>\n",
       "    </tr>\n",
       "  </thead>\n",
       "  <tbody>\n",
       "    <tr>\n",
       "      <th>median</th>\n",
       "      <td>0.809352</td>\n",
       "      <td>0.696605</td>\n",
       "      <td>0.848347</td>\n",
       "      <td>0.760494</td>\n",
       "      <td>0.869926</td>\n",
       "      <td>0.798765</td>\n",
       "      <td>0.822324</td>\n",
       "      <td>0.711728</td>\n",
       "      <td>0.827728</td>\n",
       "      <td>0.77963</td>\n",
       "    </tr>\n",
       "    <tr>\n",
       "      <th>iqr</th>\n",
       "      <td>0.0490031</td>\n",
       "      <td>0.0537037</td>\n",
       "      <td>0.0111898</td>\n",
       "      <td>0.0243827</td>\n",
       "      <td>0.00394347</td>\n",
       "      <td>0.0111111</td>\n",
       "      <td>0.0253223</td>\n",
       "      <td>0.0580247</td>\n",
       "      <td>0.0285251</td>\n",
       "      <td>0.0490741</td>\n",
       "    </tr>\n",
       "  </tbody>\n",
       "</table>\n",
       "</div>"
      ],
      "text/plain": [
       "          Model 1               Model 2                Model 3             \\\n",
       "         training       test   training       test    training       test   \n",
       "median   0.809352   0.696605   0.848347   0.760494    0.869926   0.798765   \n",
       "iqr     0.0490031  0.0537037  0.0111898  0.0243827  0.00394347  0.0111111   \n",
       "\n",
       "          Model 4               Model 5             \n",
       "         training       test   training       test  \n",
       "median   0.822324   0.711728   0.827728    0.77963  \n",
       "iqr     0.0253223  0.0580247  0.0285251  0.0490741  "
      ]
     },
     "execution_count": 10,
     "metadata": {},
     "output_type": "execute_result"
    }
   ],
   "source": [
    "df_MLP"
   ]
  },
  {
   "cell_type": "code",
   "execution_count": 11,
   "metadata": {},
   "outputs": [
    {
     "data": {
      "image/png": "[encoded data removed]",
      "text/plain": [
       "<Figure size 1080x432 with 5 Axes>"
      ]
     },
     "metadata": {
      "needs_background": "light"
     },
     "output_type": "display_data"
    }
   ],
   "source": [
    "fig, ax = plt.subplots(1,5,sharex=True, sharey=True,figsize= (15,6))\n",
    "for i in range(num_splits):\n",
    "    ax[i].errorbar(range(2),medians_MLP[i] ,yerr = iqrs_MLP[i],marker='o', markersize=10, ls='None',alpha=0.8)      \n",
    "    ax[i].set_xlabel('Model '+str(i+1),size=14)\n",
    "    ax[i].set_ylim(0.55,1.02)\n",
    "ax[0].set_ylabel('AUC score')\n",
    "plt.xticks(range(2),['training','test']) \n",
    "plt.suptitle('MLP network model performances over 100 runs')\n",
    "plt.show()\n",
    "plt.close(fig)"
   ]
  },
  {
   "cell_type": "markdown",
   "metadata": {},
   "source": [
    "### End-to-end"
   ]
  },
  {
   "cell_type": "code",
   "execution_count": 8,
   "metadata": {},
   "outputs": [],
   "source": [
    "medians_end = []\n",
    "iqrs_end = []\n",
    "AUC_end = []\n",
    "\n",
    "for i in range(num_splits):\n",
    "    AUC_trs_end, AUC_tes_end = np.loadtxt('modeling_results/1kplus_multimodal/performance_scores/end_to_end/outer_loop_AUC_performance_over_100_runs_model_'+str(i+1)+'.csv',delimiter=\",\")\n",
    "\n",
    "    medians_end.append([np.median(AUC_trs_end), np.median(AUC_tes_end)])\n",
    "    iqrs_end.append([iqr(AUC_trs_end),  iqr(AUC_tes_end)])\n",
    "    AUC_end.append(AUC_tes_end)\n",
    "    \n",
    "df_end = pd.DataFrame([],columns=multiidx,index = ['median','iqr'])\n",
    "df_end.loc['median',:] = list(matplotlib.cbook.flatten(medians_end))\n",
    "df_end.loc['iqr',:] = list(matplotlib.cbook.flatten(iqrs_end))\n"
   ]
  },
  {
   "cell_type": "code",
   "execution_count": 9,
   "metadata": {},
   "outputs": [
    {
     "data": {
      "text/html": [
       "<div>\n",
       "<style scoped>\n",
       "    .dataframe tbody tr th:only-of-type {\n",
       "        vertical-align: middle;\n",
       "    }\n",
       "\n",
       "    .dataframe tbody tr th {\n",
       "        vertical-align: top;\n",
       "    }\n",
       "\n",
       "    .dataframe thead tr th {\n",
       "        text-align: left;\n",
       "    }\n",
       "</style>\n",
       "<table border=\"1\" class=\"dataframe\">\n",
       "  <thead>\n",
       "    <tr>\n",
       "      <th></th>\n",
       "      <th colspan=\"2\" halign=\"left\">Model 1</th>\n",
       "      <th colspan=\"2\" halign=\"left\">Model 2</th>\n",
       "      <th colspan=\"2\" halign=\"left\">Model 3</th>\n",
       "      <th colspan=\"2\" halign=\"left\">Model 4</th>\n",
       "      <th colspan=\"2\" halign=\"left\">Model 5</th>\n",
       "    </tr>\n",
       "    <tr>\n",
       "      <th></th>\n",
       "      <th>training</th>\n",
       "      <th>test</th>\n",
       "      <th>training</th>\n",
       "      <th>test</th>\n",
       "      <th>training</th>\n",
       "      <th>test</th>\n",
       "      <th>training</th>\n",
       "      <th>test</th>\n",
       "      <th>training</th>\n",
       "      <th>test</th>\n",
       "    </tr>\n",
       "  </thead>\n",
       "  <tbody>\n",
       "    <tr>\n",
       "      <th>median</th>\n",
       "      <td>0.898911</td>\n",
       "      <td>0.714815</td>\n",
       "      <td>0.904836</td>\n",
       "      <td>0.778395</td>\n",
       "      <td>0.906358</td>\n",
       "      <td>0.792593</td>\n",
       "      <td>0.922452</td>\n",
       "      <td>0.728395</td>\n",
       "      <td>0.872648</td>\n",
       "      <td>0.808642</td>\n",
       "    </tr>\n",
       "    <tr>\n",
       "      <th>iqr</th>\n",
       "      <td>0.0565297</td>\n",
       "      <td>0.0364198</td>\n",
       "      <td>0.0700617</td>\n",
       "      <td>0.0225309</td>\n",
       "      <td>0.0612539</td>\n",
       "      <td>0.0268519</td>\n",
       "      <td>0.0776483</td>\n",
       "      <td>0.045679</td>\n",
       "      <td>0.0672992</td>\n",
       "      <td>0.0351852</td>\n",
       "    </tr>\n",
       "  </tbody>\n",
       "</table>\n",
       "</div>"
      ],
      "text/plain": [
       "          Model 1               Model 2               Model 3             \\\n",
       "         training       test   training       test   training       test   \n",
       "median   0.898911   0.714815   0.904836   0.778395   0.906358   0.792593   \n",
       "iqr     0.0565297  0.0364198  0.0700617  0.0225309  0.0612539  0.0268519   \n",
       "\n",
       "          Model 4              Model 5             \n",
       "         training      test   training       test  \n",
       "median   0.922452  0.728395   0.872648   0.808642  \n",
       "iqr     0.0776483  0.045679  0.0672992  0.0351852  "
      ]
     },
     "execution_count": 9,
     "metadata": {},
     "output_type": "execute_result"
    }
   ],
   "source": [
    "df_end"
   ]
  },
  {
   "cell_type": "code",
   "execution_count": 14,
   "metadata": {},
   "outputs": [
    {
     "data": {
      "image/png": "[encoded data removed]",
      "text/plain": [
       "<Figure size 1080x432 with 5 Axes>"
      ]
     },
     "metadata": {
      "needs_background": "light"
     },
     "output_type": "display_data"
    }
   ],
   "source": [
    "fig, ax = plt.subplots(1,5,sharex=True, sharey=True,figsize= (15,6))\n",
    "for i in range(num_splits):\n",
    "    ax[i].errorbar(range(2),medians_end[i] ,yerr = iqrs_end[i],marker='o', markersize=10, ls='None',alpha=0.8)      \n",
    "    ax[i].set_xlabel('Model '+str(i+1),size=14)\n",
    "    ax[i].set_ylim(0.55,1.02)\n",
    "ax[0].set_ylabel('AUC score')\n",
    "plt.xticks(range(2),['training','test']) \n",
    "plt.suptitle('End-to-end network model performances over 100 runs')\n",
    "plt.show()\n",
    "plt.close(fig)"
   ]
  },
  {
   "cell_type": "markdown",
   "metadata": {},
   "source": [
    "### Feature extraction"
   ]
  },
  {
   "cell_type": "code",
   "execution_count": 10,
   "metadata": {},
   "outputs": [],
   "source": [
    "medians_feat = []\n",
    "iqrs_feat = []\n",
    "AUC_feat = []\n",
    "\n",
    "for i in range(num_splits):\n",
    "    AUC_trs_feat, AUC_tes_feat = np.loadtxt('modeling_results/1kplus_multimodal/performance_scores/feature_concatenation/outer_loop_AUC_performance_over_100_runs_model_'+str(i+1)+'.csv',delimiter=\",\")\n",
    "\n",
    "    medians_feat.append([np.median(AUC_trs_feat), np.median(AUC_tes_feat)])\n",
    "    iqrs_feat.append([iqr(AUC_trs_feat),  iqr(AUC_tes_feat)])\n",
    "    AUC_feat.append(AUC_tes_feat)\n",
    "    \n",
    "df_feat = pd.DataFrame([],columns=multiidx,index = ['median','iqr'])\n",
    "df_feat.loc['median',:] = list(matplotlib.cbook.flatten(medians_feat))\n",
    "df_feat.loc['iqr',:] = list(matplotlib.cbook.flatten(iqrs_feat))\n",
    "\n",
    "\n"
   ]
  },
  {
   "cell_type": "code",
   "execution_count": 16,
   "metadata": {},
   "outputs": [
    {
     "data": {
      "text/html": [
       "<div>\n",
       "<style scoped>\n",
       "    .dataframe tbody tr th:only-of-type {\n",
       "        vertical-align: middle;\n",
       "    }\n",
       "\n",
       "    .dataframe tbody tr th {\n",
       "        vertical-align: top;\n",
       "    }\n",
       "\n",
       "    .dataframe thead tr th {\n",
       "        text-align: left;\n",
       "    }\n",
       "</style>\n",
       "<table border=\"1\" class=\"dataframe\">\n",
       "  <thead>\n",
       "    <tr>\n",
       "      <th></th>\n",
       "      <th colspan=\"2\" halign=\"left\">Model 1</th>\n",
       "      <th colspan=\"2\" halign=\"left\">Model 2</th>\n",
       "      <th colspan=\"2\" halign=\"left\">Model 3</th>\n",
       "      <th colspan=\"2\" halign=\"left\">Model 4</th>\n",
       "      <th colspan=\"2\" halign=\"left\">Model 5</th>\n",
       "    </tr>\n",
       "    <tr>\n",
       "      <th></th>\n",
       "      <th>training</th>\n",
       "      <th>test</th>\n",
       "      <th>training</th>\n",
       "      <th>test</th>\n",
       "      <th>training</th>\n",
       "      <th>test</th>\n",
       "      <th>training</th>\n",
       "      <th>test</th>\n",
       "      <th>training</th>\n",
       "      <th>test</th>\n",
       "    </tr>\n",
       "  </thead>\n",
       "  <tbody>\n",
       "    <tr>\n",
       "      <th>median</th>\n",
       "      <td>0.967611</td>\n",
       "      <td>0.597531</td>\n",
       "      <td>0.955121</td>\n",
       "      <td>0.781481</td>\n",
       "      <td>0.995036</td>\n",
       "      <td>0.780247</td>\n",
       "      <td>0.87541</td>\n",
       "      <td>0.75679</td>\n",
       "      <td>0.98807</td>\n",
       "      <td>0.834568</td>\n",
       "    </tr>\n",
       "    <tr>\n",
       "      <th>iqr</th>\n",
       "      <td>0.00374329</td>\n",
       "      <td>0.0209877</td>\n",
       "      <td>0.00564497</td>\n",
       "      <td>0.0126543</td>\n",
       "      <td>0.001141</td>\n",
       "      <td>0.016358</td>\n",
       "      <td>0.00698615</td>\n",
       "      <td>0.0135802</td>\n",
       "      <td>0.00128113</td>\n",
       "      <td>0.0123457</td>\n",
       "    </tr>\n",
       "  </tbody>\n",
       "</table>\n",
       "</div>"
      ],
      "text/plain": [
       "           Model 1                Model 2              Model 3            \\\n",
       "          training       test    training       test  training      test   \n",
       "median    0.967611   0.597531    0.955121   0.781481  0.995036  0.780247   \n",
       "iqr     0.00374329  0.0209877  0.00564497  0.0126543  0.001141  0.016358   \n",
       "\n",
       "           Model 4                Model 5             \n",
       "          training       test    training       test  \n",
       "median     0.87541    0.75679     0.98807   0.834568  \n",
       "iqr     0.00698615  0.0135802  0.00128113  0.0123457  "
      ]
     },
     "execution_count": 16,
     "metadata": {},
     "output_type": "execute_result"
    }
   ],
   "source": [
    "df_feat"
   ]
  },
  {
   "cell_type": "code",
   "execution_count": 17,
   "metadata": {},
   "outputs": [
    {
     "data": {
      "image/png": "[encoded data removed]",
      "text/plain": [
       "<Figure size 1080x432 with 5 Axes>"
      ]
     },
     "metadata": {
      "needs_background": "light"
     },
     "output_type": "display_data"
    }
   ],
   "source": [
    "fig, ax = plt.subplots(1,5,sharex=True, sharey=True,figsize= (15,6))\n",
    "for i in range(num_splits):\n",
    "    ax[i].errorbar(range(2),medians_feat[i] ,yerr = iqrs_feat[i],marker='o', markersize=10, ls='None',alpha=0.8)      \n",
    "    ax[i].set_xlabel('Model '+str(i+1),size=14)\n",
    "    ax[i].set_ylim(0.55,1.02)\n",
    "ax[0].set_ylabel('AUC score')\n",
    "plt.xticks(range(2),['training','test']) \n",
    "plt.suptitle('Feature extraction network model performances over 100 runs')\n",
    "plt.show()\n",
    "plt.close(fig)"
   ]
  },
  {
   "cell_type": "markdown",
   "metadata": {},
   "source": [
    "### 1.1 Significance test"
   ]
  },
  {
   "cell_type": "code",
   "execution_count": 18,
   "metadata": {},
   "outputs": [],
   "source": [
    "# Check if Gaussian\n",
    "from scipy.stats import normaltest\n",
    "MLP_gaus = []\n",
    "end_gaus = []\n",
    "feat_gaus = []\n",
    "\n",
    "for i in range(num_splits): \n",
    "    _, p = normaltest(AUC_MLP[i])\n",
    "    MLP_gaus.append(p)\n",
    "    _, p = normaltest(AUC_end[i])\n",
    "    end_gaus.append(p)\n",
    "    _, p = normaltest(AUC_feat[i])\n",
    "    feat_gaus.append(p)"
   ]
  },
  {
   "cell_type": "code",
   "execution_count": 20,
   "metadata": {},
   "outputs": [
    {
     "data": {
      "text/html": [
       "[0.0009620972783275808, 0.2640418806874633, 0.6253985081447309, 3.9213820759685565e-07, 0.13697399662432935]"
      ],
      "text/plain": [
       "[0.0009620972783275808,\n",
       " 0.2640418806874633,\n",
       " 0.6253985081447309,\n",
       " 3.9213820759685565e-07,\n",
       " 0.13697399662432935]"
      ]
     },
     "execution_count": 20,
     "metadata": {},
     "output_type": "execute_result"
    }
   ],
   "source": [
    "MLP_gaus"
   ]
  },
  {
   "cell_type": "code",
   "execution_count": 21,
   "metadata": {},
   "outputs": [
    {
     "data": {
      "text/html": [
       "[3.4343023174175354e-08, 0.07438325551848347, 0.06177956276916894, 0.03414590132157095, 0.541797388635354]"
      ],
      "text/plain": [
       "[3.4343023174175354e-08,\n",
       " 0.07438325551848347,\n",
       " 0.06177956276916894,\n",
       " 0.03414590132157095,\n",
       " 0.541797388635354]"
      ]
     },
     "execution_count": 21,
     "metadata": {},
     "output_type": "execute_result"
    }
   ],
   "source": [
    "end_gaus"
   ]
  },
  {
   "cell_type": "code",
   "execution_count": 22,
   "metadata": {},
   "outputs": [
    {
     "data": {
      "text/html": [
       "[0.3792108208606424, 0.7360654891210872, 0.2264845446240076, 0.15601150877164416, 0.694448506176382]"
      ],
      "text/plain": [
       "[0.3792108208606424,\n",
       " 0.7360654891210872,\n",
       " 0.2264845446240076,\n",
       " 0.15601150877164416,\n",
       " 0.694448506176382]"
      ]
     },
     "execution_count": 22,
     "metadata": {},
     "output_type": "execute_result"
    }
   ],
   "source": [
    "feat_gaus"
   ]
  },
  {
   "cell_type": "markdown",
   "metadata": {},
   "source": [
    "#### Non-gaussian except for two models each in MLP and end-to-end"
   ]
  },
  {
   "cell_type": "code",
   "execution_count": 23,
   "metadata": {},
   "outputs": [],
   "source": [
    "# Wilcoxon\n",
    "from scipy.stats import wilcoxon\n",
    "end_MLP = []\n",
    "feat_MLP = []\n",
    "end_feat = []\n",
    "\n",
    "for i in range(num_splits):    \n",
    "    _, p_val = wilcoxon(AUC_end[i], AUC_MLP[i])\n",
    "    end_MLP.append(p_val) \n",
    "    _, p_val = wilcoxon(AUC_end[i], AUC_feat[i])\n",
    "    end_feat.append(p_val) \n",
    "    _, p_val = wilcoxon(AUC_feat[i], AUC_MLP[i])\n",
    "    feat_MLP.append(p_val) \n",
    "    \n",
    "#significance = float(format(p_val, '.4f'))"
   ]
  },
  {
   "cell_type": "code",
   "execution_count": 24,
   "metadata": {},
   "outputs": [],
   "source": [
    "df_sig = pd.DataFrame(np.vstack((end_MLP, feat_MLP, end_feat)), index= ['end-to-end vs. MLP', 'feature extraction vs. MLP',\n",
    "                      'end-to-end vs. feature extraction'], columns= model_names)"
   ]
  },
  {
   "cell_type": "code",
   "execution_count": 25,
   "metadata": {},
   "outputs": [
    {
     "data": {
      "text/html": [
       "<div>\n",
       "<style scoped>\n",
       "    .dataframe tbody tr th:only-of-type {\n",
       "        vertical-align: middle;\n",
       "    }\n",
       "\n",
       "    .dataframe tbody tr th {\n",
       "        vertical-align: top;\n",
       "    }\n",
       "\n",
       "    .dataframe thead th {\n",
       "        text-align: right;\n",
       "    }\n",
       "</style>\n",
       "<table border=\"1\" class=\"dataframe\">\n",
       "  <thead>\n",
       "    <tr style=\"text-align: right;\">\n",
       "      <th></th>\n",
       "      <th>Model 1</th>\n",
       "      <th>Model 2</th>\n",
       "      <th>Model 3</th>\n",
       "      <th>Model 4</th>\n",
       "      <th>Model 5</th>\n",
       "    </tr>\n",
       "  </thead>\n",
       "  <tbody>\n",
       "    <tr>\n",
       "      <th>end-to-end vs. MLP</th>\n",
       "      <td>4.925166e-04</td>\n",
       "      <td>2.980621e-11</td>\n",
       "      <td>4.796815e-03</td>\n",
       "      <td>5.565309e-04</td>\n",
       "      <td>4.254636e-08</td>\n",
       "    </tr>\n",
       "    <tr>\n",
       "      <th>feature extraction vs. MLP</th>\n",
       "      <td>6.798112e-18</td>\n",
       "      <td>3.025801e-13</td>\n",
       "      <td>5.852202e-16</td>\n",
       "      <td>4.141138e-16</td>\n",
       "      <td>1.061007e-17</td>\n",
       "    </tr>\n",
       "    <tr>\n",
       "      <th>end-to-end vs. feature extraction</th>\n",
       "      <td>4.388961e-18</td>\n",
       "      <td>2.654778e-01</td>\n",
       "      <td>3.109791e-06</td>\n",
       "      <td>7.657110e-12</td>\n",
       "      <td>1.629970e-12</td>\n",
       "    </tr>\n",
       "  </tbody>\n",
       "</table>\n",
       "</div>"
      ],
      "text/plain": [
       "                                        Model 1       Model 2       Model 3  \\\n",
       "end-to-end vs. MLP                 4.925166e-04  2.980621e-11  4.796815e-03   \n",
       "feature extraction vs. MLP         6.798112e-18  3.025801e-13  5.852202e-16   \n",
       "end-to-end vs. feature extraction  4.388961e-18  2.654778e-01  3.109791e-06   \n",
       "\n",
       "                                        Model 4       Model 5  \n",
       "end-to-end vs. MLP                 5.565309e-04  4.254636e-08  \n",
       "feature extraction vs. MLP         4.141138e-16  1.061007e-17  \n",
       "end-to-end vs. feature extraction  7.657110e-12  1.629970e-12  "
      ]
     },
     "execution_count": 25,
     "metadata": {},
     "output_type": "execute_result"
    }
   ],
   "source": [
    "df_sig"
   ]
  },
  {
   "cell_type": "markdown",
   "metadata": {},
   "source": [
    "#### Plotting"
   ]
  },
  {
   "cell_type": "code",
   "execution_count": 28,
   "metadata": {},
   "outputs": [
    {
     "data": {
      "image/png": "[encoded data removed]",
      "text/plain": [
       "<Figure size 1800x432 with 5 Axes>"
      ]
     },
     "metadata": {
      "needs_background": "light"
     },
     "output_type": "display_data"
    }
   ],
   "source": [
    "fig, ax = plt.subplots(1,5,sharex=True, sharey=True,figsize= (25,6))\n",
    "for i in range(num_splits):\n",
    "    medians_tr = [medians_CNN[i][0],medians_MLP[i][0],medians_end[i][0],medians_feat[i][0]]\n",
    "    iqrs_tr = [iqrs_CNN[i][0], iqrs_MLP[i][0], iqrs_end[i][0], iqrs_feat[i][0]]\n",
    "    medians_te = [medians_CNN[i][1],medians_MLP[i][1],medians_end[i][1],medians_feat[i][1]]\n",
    "    iqrs_te = [iqrs_CNN[i][1], iqrs_MLP[i][1], iqrs_end[i][1], iqrs_feat[i][1]]\n",
    "    ax[i].errorbar(range(4),medians_tr ,yerr = iqrs_tr,marker='o', markersize=15, ls='None',alpha=0.8,label= 'training')\n",
    "    ax[i].errorbar(range(4),medians_te ,yerr = iqrs_te,marker='o', markersize=15, ls='None',alpha=0.8,label = 'test')\n",
    "    ax[i].set_xlabel('Split '+str(i+1),size=20)\n",
    "    ax[i].set_ylim(0.45,1.02)\n",
    "    ax[i].tick_params(axis='both', which='major', labelsize=16)\n",
    "plt.xticks(range(4),['CNN','MLP', 'E-to-E','FeatExt']) \n",
    "#plt.suptitle('AUC score distributions',size=21)\n",
    "ax[0].legend(bbox_to_anchor= (-0.15, 1),shadow=True, prop={'size': 20})\n",
    "ax[0].set_ylabel('AUC', size=20)\n",
    "plt.show()\n",
    "plt.close(fig)"
   ]
  },
  {
   "cell_type": "code",
   "execution_count": null,
   "metadata": {},
   "outputs": [],
   "source": []
  },
  {
   "cell_type": "code",
   "execution_count": null,
   "metadata": {},
   "outputs": [],
   "source": []
  },
  {
   "cell_type": "code",
   "execution_count": null,
   "metadata": {},
   "outputs": [],
   "source": []
  },
  {
   "cell_type": "code",
   "execution_count": null,
   "metadata": {},
   "outputs": [],
   "source": []
  },
  {
   "cell_type": "code",
   "execution_count": null,
   "metadata": {},
   "outputs": [],
   "source": []
  },
  {
   "cell_type": "code",
   "execution_count": null,
   "metadata": {},
   "outputs": [],
   "source": []
  },
  {
   "cell_type": "markdown",
   "metadata": {},
   "source": [
    "### 2. Variance in performance for the 5 different data splits"
   ]
  },
  {
   "cell_type": "code",
   "execution_count": null,
   "metadata": {},
   "outputs": [],
   "source": [
    "used_params = ['split_1_params','split_2_params','split_3_params','split_4_params','split_5_params']\n",
    "AUC_types = ['training', 'test']\n",
    "iterables = [used_params, AUC_types]\n",
    "multiidx = pd.MultiIndex.from_product(iterables, names = ['Parameters Used','AUC score'])\n",
    "split_idx = ['split 1 data','split 2 data','split 3 data','split 4 data','split 5 data']"
   ]
  },
  {
   "cell_type": "code",
   "execution_count": 23,
   "metadata": {},
   "outputs": [],
   "source": [
    "# Imaging (CNN)\n",
    "df = pd.DataFrame([],columns=multiidx,index = split_idx)\n",
    "perf = pd.read_csv(img_scores_folder+'final_AUC_performance_all_splits.csv')"
   ]
  },
  {
   "cell_type": "code",
   "execution_count": 46,
   "metadata": {},
   "outputs": [
    {
     "name": "stdout",
     "output_type": "stream",
     "text": [
      "Training time for run 0 was around 0 minutes\n",
      "Training time for run 0 was around 0 minutes\n",
      "Training time for run 0 was around 0 minutes\n",
      "Training time for run 0 was around 0 minutes\n",
      "Training time for run 0 was around 1 minutes\n",
      "Training time for run 0 was around 1 minutes\n",
      "Training time for run 0 was around 1 minutes\n",
      "Training time for run 0 was around 1 minutes\n",
      "Training time for run 0 was around 0 minutes\n",
      "Training time for run 0 was around 0 minutes\n",
      "Training time for run 0 was around 0 minutes\n",
      "Training time for run 0 was around 0 minutes\n",
      "Training time for run 0 was around 0 minutes\n",
      "Training time for run 0 was around 0 minutes\n",
      "Training time for run 0 was around 0 minutes\n",
      "Training time for run 0 was around 0 minutes\n",
      "Training time for run 0 was around 0 minutes\n",
      "Training time for run 0 was around 0 minutes\n",
      "Training time for run 0 was around 0 minutes\n",
      "Training time for run 0 was around 0 minutes\n"
     ]
    }
   ],
   "source": [
    "\n",
    "for i in range(num_splits):\n",
    "    with open(img_params_folder+ 'best_tuning_params_split_'+str(i+1)+'.json') as json_file:  \n",
    "        tuning_params = json.load(json_file)\n",
    "    df.loc['split '+str(i+1)+' data','split_'+str(i+1)+'_params'] = perf['training AUC'][i], perf['test AUC'][i]\n",
    "    for j in range(num_splits):\n",
    "        if not i==j:\n",
    "            X_tr = img_sets[j]['train_data']\n",
    "            y_tr = img_sets[j]['train_labels']\n",
    "            X_val = img_sets[j]['val_data']\n",
    "            y_val = img_sets[j]['val_labels']\n",
    "            X_te = img_sets[j]['test_data']\n",
    "            y_te = img_sets[j]['test_labels']\n",
    "            X_train = np.concatenate((X_tr,X_val))\n",
    "            y_train = np.concatenate((y_tr,y_val))\n",
    "            y_te = pd.get_dummies(y_te)\n",
    "            y_train = pd.get_dummies(y_train)\n",
    "\n",
    "            AUC_tr, AUC_te = train_and_evaluate_CNN((X_train,y_train),(X_te,y_te),tuning_params,num_training_runs=1)\n",
    "            df.loc['split '+str(i+1)+' data','split_'+str(j+1)+'_params'] = AUC_tr[0], AUC_te[0]\n",
    "            "
   ]
  },
  {
   "cell_type": "code",
   "execution_count": 47,
   "metadata": {
    "scrolled": true
   },
   "outputs": [
    {
     "data": {
      "text/html": [
       "<div>\n",
       "<style scoped>\n",
       "    .dataframe tbody tr th:only-of-type {\n",
       "        vertical-align: middle;\n",
       "    }\n",
       "\n",
       "    .dataframe tbody tr th {\n",
       "        vertical-align: top;\n",
       "    }\n",
       "\n",
       "    .dataframe thead tr th {\n",
       "        text-align: left;\n",
       "    }\n",
       "</style>\n",
       "<table border=\"1\" class=\"dataframe\">\n",
       "  <thead>\n",
       "    <tr>\n",
       "      <th>Parameters Used</th>\n",
       "      <th colspan=\"2\" halign=\"left\">split_1_params</th>\n",
       "      <th colspan=\"2\" halign=\"left\">split_2_params</th>\n",
       "      <th colspan=\"2\" halign=\"left\">split_3_params</th>\n",
       "      <th colspan=\"2\" halign=\"left\">split_4_params</th>\n",
       "      <th colspan=\"2\" halign=\"left\">split_5_params</th>\n",
       "    </tr>\n",
       "    <tr>\n",
       "      <th>AUC score</th>\n",
       "      <th>training</th>\n",
       "      <th>test</th>\n",
       "      <th>training</th>\n",
       "      <th>test</th>\n",
       "      <th>training</th>\n",
       "      <th>test</th>\n",
       "      <th>training</th>\n",
       "      <th>test</th>\n",
       "      <th>training</th>\n",
       "      <th>test</th>\n",
       "    </tr>\n",
       "  </thead>\n",
       "  <tbody>\n",
       "    <tr>\n",
       "      <th>split 1 data</th>\n",
       "      <td>0.99944</td>\n",
       "      <td>0.612346</td>\n",
       "      <td>0.986628</td>\n",
       "      <td>0.676543</td>\n",
       "      <td>0.979502</td>\n",
       "      <td>0.706173</td>\n",
       "      <td>0.912803</td>\n",
       "      <td>0.646914</td>\n",
       "      <td>0.995596</td>\n",
       "      <td>0.740741</td>\n",
       "    </tr>\n",
       "    <tr>\n",
       "      <th>split 2 data</th>\n",
       "      <td>0.992393</td>\n",
       "      <td>0.677778</td>\n",
       "      <td>0.995996</td>\n",
       "      <td>0.754321</td>\n",
       "      <td>0.99952</td>\n",
       "      <td>0.696296</td>\n",
       "      <td>0.989431</td>\n",
       "      <td>0.702469</td>\n",
       "      <td>0.995196</td>\n",
       "      <td>0.791358</td>\n",
       "    </tr>\n",
       "    <tr>\n",
       "      <th>split 3 data</th>\n",
       "      <td>1</td>\n",
       "      <td>0.644444</td>\n",
       "      <td>1</td>\n",
       "      <td>0.738272</td>\n",
       "      <td>1</td>\n",
       "      <td>0.667901</td>\n",
       "      <td>1</td>\n",
       "      <td>0.682716</td>\n",
       "      <td>1</td>\n",
       "      <td>0.67284</td>\n",
       "    </tr>\n",
       "    <tr>\n",
       "      <th>split 4 data</th>\n",
       "      <td>0.821603</td>\n",
       "      <td>0.534568</td>\n",
       "      <td>0.820962</td>\n",
       "      <td>0.72963</td>\n",
       "      <td>0.989911</td>\n",
       "      <td>0.72963</td>\n",
       "      <td>0.879334</td>\n",
       "      <td>0.658025</td>\n",
       "      <td>0.960365</td>\n",
       "      <td>0.758025</td>\n",
       "    </tr>\n",
       "    <tr>\n",
       "      <th>split 5 data</th>\n",
       "      <td>0.99968</td>\n",
       "      <td>0.791358</td>\n",
       "      <td>0.901593</td>\n",
       "      <td>0.707407</td>\n",
       "      <td>0.5</td>\n",
       "      <td>0.5</td>\n",
       "      <td>0.5</td>\n",
       "      <td>0.5</td>\n",
       "      <td>0.790536</td>\n",
       "      <td>0.6</td>\n",
       "    </tr>\n",
       "  </tbody>\n",
       "</table>\n",
       "</div>"
      ],
      "text/plain": [
       "Parameters Used split_1_params           split_2_params            \\\n",
       "AUC score             training      test       training      test   \n",
       "split 1 data           0.99944  0.612346       0.986628  0.676543   \n",
       "split 2 data          0.992393  0.677778       0.995996  0.754321   \n",
       "split 3 data                 1  0.644444              1  0.738272   \n",
       "split 4 data          0.821603  0.534568       0.820962   0.72963   \n",
       "split 5 data           0.99968  0.791358       0.901593  0.707407   \n",
       "\n",
       "Parameters Used split_3_params           split_4_params            \\\n",
       "AUC score             training      test       training      test   \n",
       "split 1 data          0.979502  0.706173       0.912803  0.646914   \n",
       "split 2 data           0.99952  0.696296       0.989431  0.702469   \n",
       "split 3 data                 1  0.667901              1  0.682716   \n",
       "split 4 data          0.989911   0.72963       0.879334  0.658025   \n",
       "split 5 data               0.5       0.5            0.5       0.5   \n",
       "\n",
       "Parameters Used split_5_params            \n",
       "AUC score             training      test  \n",
       "split 1 data          0.995596  0.740741  \n",
       "split 2 data          0.995196  0.791358  \n",
       "split 3 data                 1   0.67284  \n",
       "split 4 data          0.960365  0.758025  \n",
       "split 5 data          0.790536       0.6  "
      ]
     },
     "execution_count": 47,
     "metadata": {},
     "output_type": "execute_result"
    }
   ],
   "source": [
    "df"
   ]
  },
  {
   "cell_type": "code",
   "execution_count": 52,
   "metadata": {},
   "outputs": [],
   "source": [
    "df_means = [list(df.loc[:,'split_'+str(i+1)+'_params'].mean()) for i in range(num_splits)]\n",
    "df_stds = [list(df.loc[:,'split_'+str(i+1)+'_params'].std()) for i in range(num_splits)]"
   ]
  },
  {
   "cell_type": "code",
   "execution_count": 56,
   "metadata": {},
   "outputs": [
    {
     "data": {
      "image/png": "[encoded data removed]",
      "text/plain": [
       "<Figure size 1080x432 with 5 Axes>"
      ]
     },
     "metadata": {
      "needs_background": "light"
     },
     "output_type": "display_data"
    }
   ],
   "source": [
    "fig, ax = plt.subplots(1,5,sharex=True, sharey=True,figsize= (15,6))\n",
    "for i in range(num_splits):\n",
    "    ax[i].errorbar(range(2),df_means[i] ,yerr = df_stds[i],marker='o', markersize=10, ls='None',alpha=0.8)      \n",
    "    ax[i].set_xlabel('Split '+str(i+1),size=14)\n",
    "ax[0].set_ylabel('Mean AUC')\n",
    "plt.xticks(range(2),['training','test']) \n",
    "plt.suptitle('AUC scores over 5 splits for same parameters')\n",
    "plt.show()\n",
    "plt.close(fig)"
   ]
  },
  {
   "cell_type": "code",
   "execution_count": 57,
   "metadata": {},
   "outputs": [],
   "source": [
    "# Clinical(MLP)\n",
    "df_clin = pd.DataFrame([],columns=multiidx,index = split_idx)"
   ]
  },
  {
   "cell_type": "code",
   "execution_count": 59,
   "metadata": {},
   "outputs": [
    {
     "name": "stdout",
     "output_type": "stream",
     "text": [
      "[0.76739531 0.70771605]\n",
      "[0.872728   0.77901235]\n",
      "[0.87080631 0.80617284]\n",
      "[0.76655457 0.69012346]\n",
      "[0.81015293 0.80864198]\n"
     ]
    }
   ],
   "source": [
    "for i in range(num_splits):\n",
    "    with open(clin_params_folder+ 'best_MLP_multimodal_tuning_parameters_run_'+str(i+1)+'_softmax.json') as json_file:  \n",
    "        tuning_params = json.load(json_file)\n",
    "    perf = np.loadtxt(clin_scores_folder+ 'final_performance_auc_scores_'+str(i+1)+'_softmax.csv',delimiter=',')\n",
    "    df_clin.loc['split '+str(i+1)+' data','split_'+str(i+1)+'_params'] = perf[0], perf[1]\n",
    "    for j in range(num_splits):\n",
    "        if not i==j:\n",
    "            X_tr = clin_sets[j]['train_data']\n",
    "            y_tr = clin_sets[j]['train_labels']\n",
    "            X_val = clin_sets[j]['val_data']\n",
    "            y_val = clin_sets[j]['val_labels']\n",
    "            X_te = clin_sets[j]['test_data']\n",
    "            y_te = clin_sets[j]['test_labels']\n",
    "            X_train = np.concatenate((X_tr,X_val))\n",
    "            y_train = np.concatenate((y_tr,y_val))\n",
    "            y_te = pd.get_dummies(y_te)\n",
    "            y_train = pd.get_dummies(y_train.reshape(250,))\n",
    "\n",
    "            AUC_tr, AUC_te = train_and_evaluate_MLP((X_train,y_train),(X_te,y_te),tuning_params,num_training_runs=1)\n",
    "            df_clin.loc['split '+str(i+1)+' data','split_'+str(j+1)+'_params'] = AUC_tr[0], AUC_te[0]\n",
    "            "
   ]
  },
  {
   "cell_type": "code",
   "execution_count": 60,
   "metadata": {},
   "outputs": [
    {
     "data": {
      "text/html": [
       "<div>\n",
       "<style scoped>\n",
       "    .dataframe tbody tr th:only-of-type {\n",
       "        vertical-align: middle;\n",
       "    }\n",
       "\n",
       "    .dataframe tbody tr th {\n",
       "        vertical-align: top;\n",
       "    }\n",
       "\n",
       "    .dataframe thead tr th {\n",
       "        text-align: left;\n",
       "    }\n",
       "</style>\n",
       "<table border=\"1\" class=\"dataframe\">\n",
       "  <thead>\n",
       "    <tr>\n",
       "      <th>Parameters Used</th>\n",
       "      <th colspan=\"2\" halign=\"left\">split_1_params</th>\n",
       "      <th colspan=\"2\" halign=\"left\">split_2_params</th>\n",
       "      <th colspan=\"2\" halign=\"left\">split_3_params</th>\n",
       "      <th colspan=\"2\" halign=\"left\">split_4_params</th>\n",
       "      <th colspan=\"2\" halign=\"left\">split_5_params</th>\n",
       "    </tr>\n",
       "    <tr>\n",
       "      <th>AUC score</th>\n",
       "      <th>training</th>\n",
       "      <th>test</th>\n",
       "      <th>training</th>\n",
       "      <th>test</th>\n",
       "      <th>training</th>\n",
       "      <th>test</th>\n",
       "      <th>training</th>\n",
       "      <th>test</th>\n",
       "      <th>training</th>\n",
       "      <th>test</th>\n",
       "    </tr>\n",
       "  </thead>\n",
       "  <tbody>\n",
       "    <tr>\n",
       "      <th>split 1 data</th>\n",
       "      <td>0.767395</td>\n",
       "      <td>0.707716</td>\n",
       "      <td>0.755745</td>\n",
       "      <td>0.783951</td>\n",
       "      <td>0.794739</td>\n",
       "      <td>0.801235</td>\n",
       "      <td>0.742533</td>\n",
       "      <td>0.579012</td>\n",
       "      <td>0.774842</td>\n",
       "      <td>0.776543</td>\n",
       "    </tr>\n",
       "    <tr>\n",
       "      <th>split 2 data</th>\n",
       "      <td>0.869085</td>\n",
       "      <td>0.735185</td>\n",
       "      <td>0.872728</td>\n",
       "      <td>0.779012</td>\n",
       "      <td>0.838938</td>\n",
       "      <td>0.788889</td>\n",
       "      <td>0.871727</td>\n",
       "      <td>0.740741</td>\n",
       "      <td>0.869005</td>\n",
       "      <td>0.788889</td>\n",
       "    </tr>\n",
       "    <tr>\n",
       "      <th>split 3 data</th>\n",
       "      <td>0.878373</td>\n",
       "      <td>0.738889</td>\n",
       "      <td>0.883778</td>\n",
       "      <td>0.790123</td>\n",
       "      <td>0.870806</td>\n",
       "      <td>0.806173</td>\n",
       "      <td>0.873208</td>\n",
       "      <td>0.769136</td>\n",
       "      <td>0.882857</td>\n",
       "      <td>0.809877</td>\n",
       "    </tr>\n",
       "    <tr>\n",
       "      <th>split 4 data</th>\n",
       "      <td>0.808471</td>\n",
       "      <td>0.717901</td>\n",
       "      <td>0.837337</td>\n",
       "      <td>0.782716</td>\n",
       "      <td>0.817159</td>\n",
       "      <td>0.781481</td>\n",
       "      <td>0.766555</td>\n",
       "      <td>0.690123</td>\n",
       "      <td>0.827929</td>\n",
       "      <td>0.785185</td>\n",
       "    </tr>\n",
       "    <tr>\n",
       "      <th>split 5 data</th>\n",
       "      <td>0.85267</td>\n",
       "      <td>0.788272</td>\n",
       "      <td>0.801065</td>\n",
       "      <td>0.666667</td>\n",
       "      <td>0.803707</td>\n",
       "      <td>0.798765</td>\n",
       "      <td>0.743334</td>\n",
       "      <td>0.679012</td>\n",
       "      <td>0.810153</td>\n",
       "      <td>0.808642</td>\n",
       "    </tr>\n",
       "  </tbody>\n",
       "</table>\n",
       "</div>"
      ],
      "text/plain": [
       "Parameters Used split_1_params           split_2_params            \\\n",
       "AUC score             training      test       training      test   \n",
       "split 1 data          0.767395  0.707716       0.755745  0.783951   \n",
       "split 2 data          0.869085  0.735185       0.872728  0.779012   \n",
       "split 3 data          0.878373  0.738889       0.883778  0.790123   \n",
       "split 4 data          0.808471  0.717901       0.837337  0.782716   \n",
       "split 5 data           0.85267  0.788272       0.801065  0.666667   \n",
       "\n",
       "Parameters Used split_3_params           split_4_params            \\\n",
       "AUC score             training      test       training      test   \n",
       "split 1 data          0.794739  0.801235       0.742533  0.579012   \n",
       "split 2 data          0.838938  0.788889       0.871727  0.740741   \n",
       "split 3 data          0.870806  0.806173       0.873208  0.769136   \n",
       "split 4 data          0.817159  0.781481       0.766555  0.690123   \n",
       "split 5 data          0.803707  0.798765       0.743334  0.679012   \n",
       "\n",
       "Parameters Used split_5_params            \n",
       "AUC score             training      test  \n",
       "split 1 data          0.774842  0.776543  \n",
       "split 2 data          0.869005  0.788889  \n",
       "split 3 data          0.882857  0.809877  \n",
       "split 4 data          0.827929  0.785185  \n",
       "split 5 data          0.810153  0.808642  "
      ]
     },
     "execution_count": 60,
     "metadata": {},
     "output_type": "execute_result"
    }
   ],
   "source": [
    "df_clin"
   ]
  },
  {
   "cell_type": "code",
   "execution_count": 61,
   "metadata": {},
   "outputs": [],
   "source": [
    "df_clin_means = [list(df_clin.loc[:,'split_'+str(i+1)+'_params'].mean()) for i in range(num_splits)]\n",
    "df_clin_stds = [list(df_clin.loc[:,'split_'+str(i+1)+'_params'].std()) for i in range(num_splits)]"
   ]
  },
  {
   "cell_type": "code",
   "execution_count": 62,
   "metadata": {},
   "outputs": [
    {
     "data": {
      "image/png": "[encoded data removed]",
      "text/plain": [
       "<Figure size 1080x432 with 5 Axes>"
      ]
     },
     "metadata": {
      "needs_background": "light"
     },
     "output_type": "display_data"
    }
   ],
   "source": [
    "fig, ax = plt.subplots(1,5,sharex=True, sharey=True,figsize= (15,6))\n",
    "for i in range(num_splits):\n",
    "    ax[i].errorbar(range(2),df_clin_means[i] ,yerr = df_clin_stds[i],marker='o', markersize=10, ls='None',alpha=0.8)      \n",
    "    ax[i].set_xlabel('Split '+str(i+1),size=14)\n",
    "ax[0].set_ylabel('Mean AUC')\n",
    "plt.xticks(range(2),['training','test']) \n",
    "plt.suptitle('AUC scores over 5 splits for same parameters')\n",
    "plt.show()\n",
    "plt.close(fig)"
   ]
  },
  {
   "cell_type": "markdown",
   "metadata": {},
   "source": [
    "### 3. Variance in inner and outer loop performance scores"
   ]
  },
  {
   "cell_type": "code",
   "execution_count": 4,
   "metadata": {},
   "outputs": [],
   "source": [
    "splits = ['split_1','split_2','split_3','split_4','split_5']\n",
    "AUC_types = ['training AUC', 'validation AUC','test AUC']\n",
    "loops = ['inner loop', 'outer loop']\n",
    "iterables = [splits, loops]\n",
    "multiidx = pd.MultiIndex.from_product(iterables, names = ['Splits','Loops'])\n"
   ]
  },
  {
   "cell_type": "code",
   "execution_count": 11,
   "metadata": {},
   "outputs": [],
   "source": [
    "# Imaging (CNN)\n",
    "df_loop = pd.DataFrame([],columns=multiidx,index = AUC_types)\n",
    "perf = pd.read_csv(img_scores_folder+'final_AUC_performance_all_splits.csv')\n",
    "inner_perf =  pd.read_csv(img_scores_folder+'inner_loop_AUC_performance_all_splits.csv')"
   ]
  },
  {
   "cell_type": "code",
   "execution_count": 12,
   "metadata": {},
   "outputs": [],
   "source": [
    "for i in range(num_splits):\n",
    "    df_loop.loc['training AUC','split_'+str(i+1)]['outer loop'] = perf['training AUC'][i]\n",
    "    df_loop.loc['validation AUC','split_'+str(i+1)]['outer loop'] = ''\n",
    "    df_loop.loc['test AUC','split_'+str(i+1)]['outer loop'] = perf['test AUC'][i]\n",
    "    df_loop.loc['training AUC','split_'+str(i+1)]['inner loop'] = inner_perf['training AUC'][i]\n",
    "    df_loop.loc['validation AUC','split_'+str(i+1)]['inner loop'] = inner_perf['validation AUC'][i]\n",
    "    df_loop.loc['test AUC','split_'+str(i+1)]['inner loop'] = inner_perf['test AUC'][i]"
   ]
  },
  {
   "cell_type": "code",
   "execution_count": 13,
   "metadata": {},
   "outputs": [
    {
     "data": {
      "text/html": [
       "<div>\n",
       "<style scoped>\n",
       "    .dataframe tbody tr th:only-of-type {\n",
       "        vertical-align: middle;\n",
       "    }\n",
       "\n",
       "    .dataframe tbody tr th {\n",
       "        vertical-align: top;\n",
       "    }\n",
       "\n",
       "    .dataframe thead tr th {\n",
       "        text-align: left;\n",
       "    }\n",
       "</style>\n",
       "<table border=\"1\" class=\"dataframe\">\n",
       "  <thead>\n",
       "    <tr>\n",
       "      <th>Splits</th>\n",
       "      <th colspan=\"2\" halign=\"left\">split_1</th>\n",
       "      <th colspan=\"2\" halign=\"left\">split_2</th>\n",
       "      <th colspan=\"2\" halign=\"left\">split_3</th>\n",
       "      <th colspan=\"2\" halign=\"left\">split_4</th>\n",
       "      <th colspan=\"2\" halign=\"left\">split_5</th>\n",
       "    </tr>\n",
       "    <tr>\n",
       "      <th>Loops</th>\n",
       "      <th>inner loop</th>\n",
       "      <th>outer loop</th>\n",
       "      <th>inner loop</th>\n",
       "      <th>outer loop</th>\n",
       "      <th>inner loop</th>\n",
       "      <th>outer loop</th>\n",
       "      <th>inner loop</th>\n",
       "      <th>outer loop</th>\n",
       "      <th>inner loop</th>\n",
       "      <th>outer loop</th>\n",
       "    </tr>\n",
       "  </thead>\n",
       "  <tbody>\n",
       "    <tr>\n",
       "      <th>training AUC</th>\n",
       "      <td>0.995298</td>\n",
       "      <td>0.99944</td>\n",
       "      <td>0.992038</td>\n",
       "      <td>0.995996</td>\n",
       "      <td>1</td>\n",
       "      <td>1</td>\n",
       "      <td>0.882257</td>\n",
       "      <td>0.879334</td>\n",
       "      <td>1</td>\n",
       "      <td>0.790536</td>\n",
       "    </tr>\n",
       "    <tr>\n",
       "      <th>validation AUC</th>\n",
       "      <td>0.855159</td>\n",
       "      <td></td>\n",
       "      <td>0.650794</td>\n",
       "      <td></td>\n",
       "      <td>0.826389</td>\n",
       "      <td></td>\n",
       "      <td>0.914683</td>\n",
       "      <td></td>\n",
       "      <td>0.784722</td>\n",
       "      <td></td>\n",
       "    </tr>\n",
       "    <tr>\n",
       "      <th>test AUC</th>\n",
       "      <td>0.580864</td>\n",
       "      <td>0.612346</td>\n",
       "      <td>0.737037</td>\n",
       "      <td>0.754321</td>\n",
       "      <td>0.67963</td>\n",
       "      <td>0.667901</td>\n",
       "      <td>0.650617</td>\n",
       "      <td>0.658025</td>\n",
       "      <td>0.774691</td>\n",
       "      <td>0.6</td>\n",
       "    </tr>\n",
       "  </tbody>\n",
       "</table>\n",
       "</div>"
      ],
      "text/plain": [
       "Splits            split_1               split_2               split_3  \\\n",
       "Loops          inner loop outer loop inner loop outer loop inner loop   \n",
       "training AUC     0.995298    0.99944   0.992038   0.995996          1   \n",
       "validation AUC   0.855159              0.650794              0.826389   \n",
       "test AUC         0.580864   0.612346   0.737037   0.754321    0.67963   \n",
       "\n",
       "Splits                       split_4               split_5             \n",
       "Loops          outer loop inner loop outer loop inner loop outer loop  \n",
       "training AUC            1   0.882257   0.879334          1   0.790536  \n",
       "validation AUC              0.914683              0.784722             \n",
       "test AUC         0.667901   0.650617   0.658025   0.774691        0.6  "
      ]
     },
     "execution_count": 13,
     "metadata": {},
     "output_type": "execute_result"
    }
   ],
   "source": [
    "df_loop"
   ]
  },
  {
   "cell_type": "code",
   "execution_count": 18,
   "metadata": {},
   "outputs": [],
   "source": [
    "# Clinical(MLP)\n",
    "df_clin_loop = pd.DataFrame([],columns=multiidx,index = AUC_types)"
   ]
  },
  {
   "cell_type": "code",
   "execution_count": 19,
   "metadata": {},
   "outputs": [],
   "source": [
    "for i in range(num_splits):\n",
    "    perf = np.loadtxt(clin_scores_folder+ 'final_performance_auc_scores_'+str(i+1)+'_softmax.csv',delimiter=',')\n",
    "    inner_perf = np.loadtxt(clin_scores_folder+ 'best_gridsearch_loss_and_AUC_over_epochs_'+str(i+1)+'_softmax.csv',delimiter=',')\n",
    "    df_clin_loop.loc['training AUC','split_'+str(i+1)]['outer loop'] = perf[0]\n",
    "    df_clin_loop.loc['validation AUC','split_'+str(i+1)]['outer loop'] = ''\n",
    "    df_clin_loop.loc['test AUC','split_'+str(i+1)]['outer loop'] = perf[1]\n",
    "    df_clin_loop.loc['training AUC','split_'+str(i+1)]['inner loop'] = inner_perf[0,-1]\n",
    "    df_clin_loop.loc['validation AUC','split_'+str(i+1)]['inner loop'] = inner_perf[1,-1]\n",
    "    df_clin_loop.loc['test AUC','split_'+str(i+1)]['inner loop'] = inner_perf[2,-1]\n",
    "    "
   ]
  },
  {
   "cell_type": "code",
   "execution_count": 20,
   "metadata": {},
   "outputs": [
    {
     "data": {
      "text/html": [
       "<div>\n",
       "<style scoped>\n",
       "    .dataframe tbody tr th:only-of-type {\n",
       "        vertical-align: middle;\n",
       "    }\n",
       "\n",
       "    .dataframe tbody tr th {\n",
       "        vertical-align: top;\n",
       "    }\n",
       "\n",
       "    .dataframe thead tr th {\n",
       "        text-align: left;\n",
       "    }\n",
       "</style>\n",
       "<table border=\"1\" class=\"dataframe\">\n",
       "  <thead>\n",
       "    <tr>\n",
       "      <th>Splits</th>\n",
       "      <th colspan=\"2\" halign=\"left\">split_1</th>\n",
       "      <th colspan=\"2\" halign=\"left\">split_2</th>\n",
       "      <th colspan=\"2\" halign=\"left\">split_3</th>\n",
       "      <th colspan=\"2\" halign=\"left\">split_4</th>\n",
       "      <th colspan=\"2\" halign=\"left\">split_5</th>\n",
       "    </tr>\n",
       "    <tr>\n",
       "      <th>Loops</th>\n",
       "      <th>inner loop</th>\n",
       "      <th>outer loop</th>\n",
       "      <th>inner loop</th>\n",
       "      <th>outer loop</th>\n",
       "      <th>inner loop</th>\n",
       "      <th>outer loop</th>\n",
       "      <th>inner loop</th>\n",
       "      <th>outer loop</th>\n",
       "      <th>inner loop</th>\n",
       "      <th>outer loop</th>\n",
       "    </tr>\n",
       "  </thead>\n",
       "  <tbody>\n",
       "    <tr>\n",
       "      <th>training AUC</th>\n",
       "      <td>0.794734</td>\n",
       "      <td>0.767395</td>\n",
       "      <td>0.847649</td>\n",
       "      <td>0.872728</td>\n",
       "      <td>0.857743</td>\n",
       "      <td>0.870806</td>\n",
       "      <td>0.870596</td>\n",
       "      <td>0.766555</td>\n",
       "      <td>0.826082</td>\n",
       "      <td>0.810153</td>\n",
       "    </tr>\n",
       "    <tr>\n",
       "      <th>validation AUC</th>\n",
       "      <td>0.936508</td>\n",
       "      <td></td>\n",
       "      <td>0.837302</td>\n",
       "      <td></td>\n",
       "      <td>0.981151</td>\n",
       "      <td></td>\n",
       "      <td>0.892857</td>\n",
       "      <td></td>\n",
       "      <td>0.890873</td>\n",
       "      <td></td>\n",
       "    </tr>\n",
       "    <tr>\n",
       "      <th>test AUC</th>\n",
       "      <td>0.700309</td>\n",
       "      <td>0.707716</td>\n",
       "      <td>0.777778</td>\n",
       "      <td>0.779012</td>\n",
       "      <td>0.77037</td>\n",
       "      <td>0.806173</td>\n",
       "      <td>0.732099</td>\n",
       "      <td>0.690123</td>\n",
       "      <td>0.780247</td>\n",
       "      <td>0.808642</td>\n",
       "    </tr>\n",
       "  </tbody>\n",
       "</table>\n",
       "</div>"
      ],
      "text/plain": [
       "Splits            split_1               split_2               split_3  \\\n",
       "Loops          inner loop outer loop inner loop outer loop inner loop   \n",
       "training AUC     0.794734   0.767395   0.847649   0.872728   0.857743   \n",
       "validation AUC   0.936508              0.837302              0.981151   \n",
       "test AUC         0.700309   0.707716   0.777778   0.779012    0.77037   \n",
       "\n",
       "Splits                       split_4               split_5             \n",
       "Loops          outer loop inner loop outer loop inner loop outer loop  \n",
       "training AUC     0.870806   0.870596   0.766555   0.826082   0.810153  \n",
       "validation AUC              0.892857              0.890873             \n",
       "test AUC         0.806173   0.732099   0.690123   0.780247   0.808642  "
      ]
     },
     "execution_count": 20,
     "metadata": {},
     "output_type": "execute_result"
    }
   ],
   "source": [
    "df_clin_loop"
   ]
  },
  {
   "cell_type": "code",
   "execution_count": 10,
   "metadata": {},
   "outputs": [],
   "source": [
    "# Combined model (MLP)\n",
    "df_comb_loop = pd.DataFrame([],columns=multiidx,index = AUC_types)\n",
    "save_scores = cfg['save options']['scores path']\n",
    "save_params = cfg['save options']['params path']"
   ]
  },
  {
   "cell_type": "code",
   "execution_count": 11,
   "metadata": {},
   "outputs": [],
   "source": [
    "for i in range(num_splits):\n",
    "    perf = np.loadtxt(save_scores+ '/final_performance_auc_scores_'+str(i+1)+'.csv',delimiter=',')\n",
    "    inner_perf = np.loadtxt(save_scores+ '/inner_loop_loss_and_AUC_over_epochs_'+str(i+1)+'_softmax.csv',delimiter=',')\n",
    "    df_comb_loop.loc['training AUC','split_'+str(i+1)]['outer loop'] = perf[0]\n",
    "    df_comb_loop.loc['validation AUC','split_'+str(i+1)]['outer loop'] = ''\n",
    "    df_comb_loop.loc['test AUC','split_'+str(i+1)]['outer loop'] = perf[1]\n",
    "    df_comb_loop.loc['training AUC','split_'+str(i+1)]['inner loop'] = inner_perf[0,-1]\n",
    "    df_comb_loop.loc['validation AUC','split_'+str(i+1)]['inner loop'] = inner_perf[1,-1]\n",
    "    df_comb_loop.loc['test AUC','split_'+str(i+1)]['inner loop'] = inner_perf[2,-1]\n",
    "    "
   ]
  },
  {
   "cell_type": "code",
   "execution_count": 12,
   "metadata": {},
   "outputs": [
    {
     "data": {
      "text/html": [
       "<div>\n",
       "<style scoped>\n",
       "    .dataframe tbody tr th:only-of-type {\n",
       "        vertical-align: middle;\n",
       "    }\n",
       "\n",
       "    .dataframe tbody tr th {\n",
       "        vertical-align: top;\n",
       "    }\n",
       "\n",
       "    .dataframe thead tr th {\n",
       "        text-align: left;\n",
       "    }\n",
       "</style>\n",
       "<table border=\"1\" class=\"dataframe\">\n",
       "  <thead>\n",
       "    <tr>\n",
       "      <th>Splits</th>\n",
       "      <th colspan=\"2\" halign=\"left\">split_1</th>\n",
       "      <th colspan=\"2\" halign=\"left\">split_2</th>\n",
       "      <th colspan=\"2\" halign=\"left\">split_3</th>\n",
       "      <th colspan=\"2\" halign=\"left\">split_4</th>\n",
       "      <th colspan=\"2\" halign=\"left\">split_5</th>\n",
       "    </tr>\n",
       "    <tr>\n",
       "      <th>Loops</th>\n",
       "      <th>inner loop</th>\n",
       "      <th>outer loop</th>\n",
       "      <th>inner loop</th>\n",
       "      <th>outer loop</th>\n",
       "      <th>inner loop</th>\n",
       "      <th>outer loop</th>\n",
       "      <th>inner loop</th>\n",
       "      <th>outer loop</th>\n",
       "      <th>inner loop</th>\n",
       "      <th>outer loop</th>\n",
       "    </tr>\n",
       "  </thead>\n",
       "  <tbody>\n",
       "    <tr>\n",
       "      <th>training AUC</th>\n",
       "      <td>1</td>\n",
       "      <td>0.9996</td>\n",
       "      <td>1</td>\n",
       "      <td>0.992634</td>\n",
       "      <td>1</td>\n",
       "      <td>0.99968</td>\n",
       "      <td>0.91511</td>\n",
       "      <td>0.902634</td>\n",
       "      <td>0.966771</td>\n",
       "      <td>0.896709</td>\n",
       "    </tr>\n",
       "    <tr>\n",
       "      <th>validation AUC</th>\n",
       "      <td>1</td>\n",
       "      <td></td>\n",
       "      <td>1</td>\n",
       "      <td></td>\n",
       "      <td>1</td>\n",
       "      <td></td>\n",
       "      <td>0.972222</td>\n",
       "      <td></td>\n",
       "      <td>0.890873</td>\n",
       "      <td></td>\n",
       "    </tr>\n",
       "    <tr>\n",
       "      <th>test AUC</th>\n",
       "      <td>0.662963</td>\n",
       "      <td>0.641975</td>\n",
       "      <td>0.748148</td>\n",
       "      <td>0.758025</td>\n",
       "      <td>0.703704</td>\n",
       "      <td>0.674074</td>\n",
       "      <td>0.692593</td>\n",
       "      <td>0.718519</td>\n",
       "      <td>0.712346</td>\n",
       "      <td>0.665432</td>\n",
       "    </tr>\n",
       "  </tbody>\n",
       "</table>\n",
       "</div>"
      ],
      "text/plain": [
       "Splits            split_1               split_2               split_3  \\\n",
       "Loops          inner loop outer loop inner loop outer loop inner loop   \n",
       "training AUC            1     0.9996          1   0.992634          1   \n",
       "validation AUC          1                     1                     1   \n",
       "test AUC         0.662963   0.641975   0.748148   0.758025   0.703704   \n",
       "\n",
       "Splits                       split_4               split_5             \n",
       "Loops          outer loop inner loop outer loop inner loop outer loop  \n",
       "training AUC      0.99968    0.91511   0.902634   0.966771   0.896709  \n",
       "validation AUC              0.972222              0.890873             \n",
       "test AUC         0.674074   0.692593   0.718519   0.712346   0.665432  "
      ]
     },
     "execution_count": 12,
     "metadata": {},
     "output_type": "execute_result"
    }
   ],
   "source": [
    "df_comb_loop"
   ]
  },
  {
   "cell_type": "markdown",
   "metadata": {},
   "source": [
    "### 4. Change in performance with increasing sample size"
   ]
  },
  {
   "cell_type": "markdown",
   "metadata": {},
   "source": [
    "##### Notes: For this analysis the whole dataset was used for training gradually. There is no validation or test set defined, thus early stopping criteria can not be defined either since it's defined by validation loss. For this reason epoch count was decreased to 10 in order to prevent training AUC from converging to 1. "
   ]
  },
  {
   "cell_type": "code",
   "execution_count": null,
   "metadata": {},
   "outputs": [],
   "source": [
    "# Imaging (CNN)\n",
    "data.load_data(dataset_path, labels_path)"
   ]
  },
  {
   "cell_type": "code",
   "execution_count": null,
   "metadata": {},
   "outputs": [],
   "source": [
    "AUC_trs = []\n",
    "for i in np.arange(100,data.X.shape[0]+1):\n",
    "    X_tr = data.X[:i]\n",
    "    y_tr = data.y[:i]\n",
    "    y_tr = pd.get_dummies(y_tr)\n",
    "    model = Sequential()\n",
    "    model.add(Conv3D(num_filters[0], filter_size, strides = filter_stride,padding=\"same\",kernel_regularizer= keras.regularizers.l2(l2_reg),input_shape=(156,192,64,1)))\n",
    "    model.add(Activation('relu'))\n",
    "    model.add(MaxPooling3D(pool_size= pool_size))\n",
    "\n",
    "    model.add(Conv3D(num_filters[1], filter_size, strides = filter_stride,padding=\"same\",kernel_regularizer= keras.regularizers.l2(l2_reg) ))\n",
    "    model.add(Activation('relu'))\n",
    "    model.add(MaxPooling3D(pool_size=pool_size))\n",
    "\n",
    "    model.add(Conv3D(num_filters[2], filter_size, strides = filter_stride,padding=\"same\",kernel_regularizer= keras.regularizers.l2(l2_reg)))\n",
    "    model.add(Activation('relu'))\n",
    "    model.add(MaxPooling3D(pool_size=pool_size))\n",
    "\n",
    "    model.add(Flatten())\n",
    "    model.add(Dense(num_neurons, activation='relu',kernel_regularizer= keras.regularizers.l2(l2_reg)))\n",
    "    model.add(Dropout(dropout))\n",
    "    model.add(Dense(2 , activation='softmax'))\n",
    "\n",
    "    optimizer = keras.optimizers.Adam(lr = lr)\n",
    "\n",
    "    model.compile(loss='binary_crossentropy',optimizer=optimizer)\n",
    "\n",
    "    parallel_model = multi_gpu_model(model, 2)\n",
    "    parallel_model.compile(loss='binary_crossentropy',optimizer=optimizer)\n",
    "\n",
    "    start = time.time()\n",
    "    history = parallel_model.fit(X_train, y_train, \n",
    "                                 batch_size = batch_size, epochs=10,verbose = 0)\n",
    "    end = time.time()\n",
    "\n",
    "    model.set_weights(parallel_model.get_weights())\n",
    "    \n",
    "    probs_tr = model.predict(X_train, batch_size = 8)\n",
    "    score_tr = roc_auc_score(y_train, probs_tr)   \n",
    "    AUC_trs.append(score_tr)\n",
    "\n",
    "    print('Training time for run %i was around %i minutes'%(i, np.floor((end-start)/60)))\n",
    "    "
   ]
  },
  {
   "cell_type": "code",
   "execution_count": null,
   "metadata": {},
   "outputs": [],
   "source": [
    "fig = plt.figure()\n",
    "plt.plot(np.arange(100,data.X.shape[0]+1),AUC_trs, 'g-')\n",
    "plt.xlabel('number of data points')\n",
    "plt.ylabel('training AUC')\n",
    "plt.show()\n",
    "plt.close(fig)"
   ]
  },
  {
   "cell_type": "code",
   "execution_count": null,
   "metadata": {},
   "outputs": [],
   "source": []
  }
 ],
 "metadata": {
  "kernelspec": {
   "display_name": "Python 3",
   "language": "python",
   "name": "python3"
  },
  "language_info": {
   "codemirror_mode": {
    "name": "ipython",
    "version": 3
   },
   "file_extension": ".py",
   "mimetype": "text/x-python",
   "name": "python",
   "nbconvert_exporter": "python",
   "pygments_lexer": "ipython3",
   "version": "3.6.8"
  }
 },
 "nbformat": 4,
 "nbformat_minor": 2
}
